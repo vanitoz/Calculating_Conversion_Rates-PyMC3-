{
 "cells": [
  {
   "cell_type": "code",
   "execution_count": 17,
   "id": "7fda1c04-bdd5-49dd-a9f0-9f5e14af1e59",
   "metadata": {},
   "outputs": [],
   "source": [
    "# import modules\n",
    "\n",
    "import random\n",
    "import numpy as np"
   ]
  },
  {
   "cell_type": "code",
   "execution_count": 13,
   "id": "20be74ef-e9ff-4bec-bccb-5b90fa8e9f65",
   "metadata": {},
   "outputs": [],
   "source": [
    "def genereate_conversion(x, y):\n",
    "    \"\"\"\n",
    "    generate list of observed conversions for channel\n",
    "    x :    numbere of users \n",
    "    y :    number of users that compleated conversion\n",
    "    return:list of 0 and 1 integers size x \n",
    "    \"\"\"\n",
    "    conv_list = [0]*(x-y) + [1]*y\n",
    "    random.shuffle(conv_list)\n",
    "    \n",
    "    return conv_list"
   ]
  },
  {
   "cell_type": "markdown",
   "id": "c78a3e3c-23bd-4b08-9000-bbd5796bbce0",
   "metadata": {},
   "source": [
    "### Generating syntetic data of conversion for 2 channels"
   ]
  },
  {
   "cell_type": "code",
   "execution_count": 14,
   "id": "b21cec8e-0748-442f-8063-352b7e1fc2f9",
   "metadata": {},
   "outputs": [],
   "source": [
    "channel_1 = genereate_conversion(100, 8)\n",
    "channel_2 = genereate_conversion(100, 18)"
   ]
  },
  {
   "cell_type": "code",
   "execution_count": 15,
   "id": "9eca3831-d193-48ec-a7c1-f314d867a5e0",
   "metadata": {},
   "outputs": [
    {
     "name": "stdout",
     "output_type": "stream",
     "text": [
      "[0, 0, 1, 0, 0, 0, 0, 0, 1, 0, 0, 0, 0, 1, 0, 0, 0, 1, 0, 1]\n",
      "[1, 0, 1, 0, 0, 0, 0, 0, 0, 0, 0, 1, 1, 0, 0, 0, 0, 1, 0, 0]\n"
     ]
    }
   ],
   "source": [
    "print(channel_1[:20])\n",
    "print(channel_2[:20])"
   ]
  },
  {
   "cell_type": "markdown",
   "id": "276f1fae-30a4-4da7-abdb-2a69a02a4b9d",
   "metadata": {},
   "source": [
    "### Lets take a look which channel has better conversion by just taking mean "
   ]
  },
  {
   "cell_type": "code",
   "execution_count": 23,
   "id": "1459d8f8-2292-4fa5-a221-281cd1a160c4",
   "metadata": {},
   "outputs": [
    {
     "name": "stdout",
     "output_type": "stream",
     "text": [
      "Mean conversion for channel_1 : 0.08 \n",
      "Mean conversion for channel_2 : 0.18 \n"
     ]
    }
   ],
   "source": [
    "print('Mean conversion for channel_1 : {} '.format(np.mean(channel_1)))\n",
    "print('Mean conversion for channel_2 : {} '.format(np.mean(channel_2)))"
   ]
  },
  {
   "cell_type": "markdown",
   "id": "3ca741a3-474c-4a5d-ac23-4f6981a00294",
   "metadata": {},
   "source": [
    "### Aperanntly channel_2 is better but we dont't know how sure is it better. We don't know the of unsertenty."
   ]
  },
  {
   "cell_type": "code",
   "execution_count": null,
   "id": "aadd77ca-815c-4572-9449-c95a663c3fec",
   "metadata": {},
   "outputs": [],
   "source": []
  }
 ],
 "metadata": {
  "kernelspec": {
   "display_name": "Python 3",
   "language": "python",
   "name": "python3"
  },
  "language_info": {
   "codemirror_mode": {
    "name": "ipython",
    "version": 3
   },
   "file_extension": ".py",
   "mimetype": "text/x-python",
   "name": "python",
   "nbconvert_exporter": "python",
   "pygments_lexer": "ipython3",
   "version": "3.7.3"
  }
 },
 "nbformat": 4,
 "nbformat_minor": 5
}
