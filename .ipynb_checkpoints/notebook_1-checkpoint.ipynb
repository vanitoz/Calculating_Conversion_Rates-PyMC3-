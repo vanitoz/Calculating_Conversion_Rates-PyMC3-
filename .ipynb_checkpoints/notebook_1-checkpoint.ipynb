{
 "cells": [
  {
   "cell_type": "code",
   "execution_count": 2,
   "id": "7fda1c04-bdd5-49dd-a9f0-9f5e14af1e59",
   "metadata": {},
   "outputs": [],
   "source": [
    "# import modules\n",
    "\n",
    "import random"
   ]
  },
  {
   "cell_type": "code",
   "execution_count": 5,
   "id": "20be74ef-e9ff-4bec-bccb-5b90fa8e9f65",
   "metadata": {},
   "outputs": [],
   "source": [
    "def genereate_conversion(x, y):\n",
    "    \"\"\"\n",
    "    generate list of observed conversions for channel\n",
    "    x :    numbere of users \n",
    "    y :    number of users that compleated conversion\n",
    "    return:list of 0 and 1 integers size x \n",
    "    \"\"\"\n",
    "    conv_list = [0]*(x-y) + [1]*y\n",
    "    random.shuffle(conv_list)\n",
    "    \n",
    "    return conv_list"
   ]
  },
  {
   "cell_type": "code",
   "execution_count": 9,
   "id": "b21cec8e-0748-442f-8063-352b7e1fc2f9",
   "metadata": {},
   "outputs": [],
   "source": [
    "channel_1 = genereate_conversion(100, 8)\n",
    "channel_2 = genereate_conversion(100, 18)"
   ]
  },
  {
   "cell_type": "code",
   "execution_count": 12,
   "id": "9eca3831-d193-48ec-a7c1-f314d867a5e0",
   "metadata": {},
   "outputs": [
    {
     "name": "stdout",
     "output_type": "stream",
     "text": [
      "[0, 0, 0, 0, 0, 0, 0, 0, 0, 0, 0, 0, 1, 0, 0, 1, 0, 0, 0, 0]\n",
      "[1, 0, 0, 0, 0, 1, 0, 0, 1, 0, 0, 0, 0, 1, 0, 0, 0, 0, 0, 0]\n"
     ]
    }
   ],
   "source": [
    "print(channel_1[:20])\n",
    "print(channel_2[:20])"
   ]
  },
  {
   "cell_type": "code",
   "execution_count": null,
   "id": "cf4eebf4-57dd-48e8-860e-09ce463a717c",
   "metadata": {},
   "outputs": [],
   "source": []
  }
 ],
 "metadata": {
  "kernelspec": {
   "display_name": "Python 3",
   "language": "python",
   "name": "python3"
  },
  "language_info": {
   "codemirror_mode": {
    "name": "ipython",
    "version": 3
   },
   "file_extension": ".py",
   "mimetype": "text/x-python",
   "name": "python",
   "nbconvert_exporter": "python",
   "pygments_lexer": "ipython3",
   "version": "3.7.3"
  }
 },
 "nbformat": 4,
 "nbformat_minor": 5
}
